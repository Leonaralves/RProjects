{
 "cells": [
  {
   "cell_type": "markdown",
   "metadata": {},
   "source": [
    "# Pima Indians Diabetes Database\n",
    "\n",
    " ### Leonara Alves"
   ]
  },
  {
   "cell_type": "markdown",
   "metadata": {},
   "source": [
    "#### Descrição do Arquivo\n",
    "diabetes.csv - contém o conjunto de dados de treinamento\n",
    "\n",
    "#### Descrição dos Campos\n",
    "1. Pregnancies   - Number of times pregnant\n",
    "2. Glucose       - Plasma glucose concentration a 2 hours in an oral glucose tolerance test\n",
    "3. BloodPressure - Diastolic blood pressure (mm Hg)\n",
    "4. SkinThickness - Triceps skin fold thickness (mm)\n",
    "5. Insulin       - 2-Hour serum insulin (mu U/ml)\n",
    "6. BMI           - Body mass index (weight in kg/(height in m)^2)\n",
    "7. DiabetesPedigreeFunction - Diabetes pedigree function\n",
    "8. Age           - Age (years)\n",
    "9. Outcome       - Class variable (0 or 1) 268 of 768 are 1, the others are 0"
   ]
  },
  {
   "cell_type": "markdown",
   "metadata": {},
   "source": [
    "### Etapa Inicial - Carregando Pacotes"
   ]
  },
  {
   "cell_type": "code",
   "execution_count": 2,
   "metadata": {
    "_kg_hide-output": true
   },
   "outputs": [],
   "source": [
    "options(warn=-1)\n",
    "library(data.table)   # leitura dos dados\n",
    "library(forecast)     # acurácia\n",
    "library(naivebayes)   # algoritmo naivebayes\n",
    "library(ROCR)         # curva ROC\n",
    "library(randomForest) # modelo randomForest\n",
    "library(dplyr)        # filtrar dados\n",
    "library(DMwR)         # balanceamento das observações\n",
    "library(lubridate)    # mexendo com datas\n",
    "library(caret)        # partição dos dados \n",
    "library(gmodels)      # tabela cruzada\n",
    "library(ggplot2)      # graficos\n",
    "library(reshape2)     # graficos\n",
    "library(ISLR)         # partição dos dados\n",
    "library(mice)         # imputação de dados\n",
    "library(cowplot)      # ajustar gráficos"
   ]
  },
  {
   "cell_type": "markdown",
   "metadata": {},
   "source": [
    "### Etapa 1 - Carregando o Dataset"
   ]
  },
  {
   "cell_type": "code",
   "execution_count": 3,
   "metadata": {},
   "outputs": [],
   "source": [
    "treinamento <- fread(\"data/diabetes.csv\")"
   ]
  },
  {
   "cell_type": "markdown",
   "metadata": {},
   "source": [
    "### Etapa 2 - Explorando os Dados"
   ]
  },
  {
   "cell_type": "code",
   "execution_count": 4,
   "metadata": {},
   "outputs": [
    {
     "data": {
      "text/html": [
       "<table>\n",
       "<thead><tr><th scope=col>Pregnancies</th><th scope=col>Glucose</th><th scope=col>BloodPressure</th><th scope=col>SkinThickness</th><th scope=col>Insulin</th><th scope=col>BMI</th><th scope=col>DiabetesPedigreeFunction</th><th scope=col>Age</th><th scope=col>Outcome</th></tr></thead>\n",
       "<tbody>\n",
       "\t<tr><td>6    </td><td>148  </td><td>72   </td><td>35   </td><td>  0  </td><td>33.6 </td><td>0.627</td><td>50   </td><td>1    </td></tr>\n",
       "\t<tr><td>1    </td><td> 85  </td><td>66   </td><td>29   </td><td>  0  </td><td>26.6 </td><td>0.351</td><td>31   </td><td>0    </td></tr>\n",
       "\t<tr><td>8    </td><td>183  </td><td>64   </td><td> 0   </td><td>  0  </td><td>23.3 </td><td>0.672</td><td>32   </td><td>1    </td></tr>\n",
       "\t<tr><td>1    </td><td> 89  </td><td>66   </td><td>23   </td><td> 94  </td><td>28.1 </td><td>0.167</td><td>21   </td><td>0    </td></tr>\n",
       "\t<tr><td>0    </td><td>137  </td><td>40   </td><td>35   </td><td>168  </td><td>43.1 </td><td>2.288</td><td>33   </td><td>1    </td></tr>\n",
       "</tbody>\n",
       "</table>\n"
      ],
      "text/latex": [
       "\\begin{tabular}{r|lllllllll}\n",
       " Pregnancies & Glucose & BloodPressure & SkinThickness & Insulin & BMI & DiabetesPedigreeFunction & Age & Outcome\\\\\n",
       "\\hline\n",
       "\t 6     & 148   & 72    & 35    &   0   & 33.6  & 0.627 & 50    & 1    \\\\\n",
       "\t 1     &  85   & 66    & 29    &   0   & 26.6  & 0.351 & 31    & 0    \\\\\n",
       "\t 8     & 183   & 64    &  0    &   0   & 23.3  & 0.672 & 32    & 1    \\\\\n",
       "\t 1     &  89   & 66    & 23    &  94   & 28.1  & 0.167 & 21    & 0    \\\\\n",
       "\t 0     & 137   & 40    & 35    & 168   & 43.1  & 2.288 & 33    & 1    \\\\\n",
       "\\end{tabular}\n"
      ],
      "text/markdown": [
       "\n",
       "Pregnancies | Glucose | BloodPressure | SkinThickness | Insulin | BMI | DiabetesPedigreeFunction | Age | Outcome | \n",
       "|---|---|---|---|---|\n",
       "| 6     | 148   | 72    | 35    |   0   | 33.6  | 0.627 | 50    | 1     | \n",
       "| 1     |  85   | 66    | 29    |   0   | 26.6  | 0.351 | 31    | 0     | \n",
       "| 8     | 183   | 64    |  0    |   0   | 23.3  | 0.672 | 32    | 1     | \n",
       "| 1     |  89   | 66    | 23    |  94   | 28.1  | 0.167 | 21    | 0     | \n",
       "| 0     | 137   | 40    | 35    | 168   | 43.1  | 2.288 | 33    | 1     | \n",
       "\n",
       "\n"
      ],
      "text/plain": [
       "  Pregnancies Glucose BloodPressure SkinThickness Insulin BMI \n",
       "1 6           148     72            35              0     33.6\n",
       "2 1            85     66            29              0     26.6\n",
       "3 8           183     64             0              0     23.3\n",
       "4 1            89     66            23             94     28.1\n",
       "5 0           137     40            35            168     43.1\n",
       "  DiabetesPedigreeFunction Age Outcome\n",
       "1 0.627                    50  1      \n",
       "2 0.351                    31  0      \n",
       "3 0.672                    32  1      \n",
       "4 0.167                    21  0      \n",
       "5 2.288                    33  1      "
      ]
     },
     "metadata": {},
     "output_type": "display_data"
    }
   ],
   "source": [
    "head(treinamento, 5)"
   ]
  },
  {
   "cell_type": "code",
   "execution_count": 5,
   "metadata": {},
   "outputs": [
    {
     "data": {
      "text/html": [
       "<table>\n",
       "<thead><tr><th scope=col>Pregnancies</th><th scope=col>Glucose</th><th scope=col>BloodPressure</th><th scope=col>SkinThickness</th><th scope=col>Insulin</th><th scope=col>BMI</th><th scope=col>DiabetesPedigreeFunction</th><th scope=col>Age</th><th scope=col>Outcome</th></tr></thead>\n",
       "<tbody>\n",
       "\t<tr><td>10   </td><td>101  </td><td>76   </td><td>48   </td><td>180  </td><td>32.9 </td><td>0.171</td><td>63   </td><td>0    </td></tr>\n",
       "\t<tr><td> 2   </td><td>122  </td><td>70   </td><td>27   </td><td>  0  </td><td>36.8 </td><td>0.340</td><td>27   </td><td>0    </td></tr>\n",
       "\t<tr><td> 5   </td><td>121  </td><td>72   </td><td>23   </td><td>112  </td><td>26.2 </td><td>0.245</td><td>30   </td><td>0    </td></tr>\n",
       "\t<tr><td> 1   </td><td>126  </td><td>60   </td><td> 0   </td><td>  0  </td><td>30.1 </td><td>0.349</td><td>47   </td><td>1    </td></tr>\n",
       "\t<tr><td> 1   </td><td> 93  </td><td>70   </td><td>31   </td><td>  0  </td><td>30.4 </td><td>0.315</td><td>23   </td><td>0    </td></tr>\n",
       "</tbody>\n",
       "</table>\n"
      ],
      "text/latex": [
       "\\begin{tabular}{r|lllllllll}\n",
       " Pregnancies & Glucose & BloodPressure & SkinThickness & Insulin & BMI & DiabetesPedigreeFunction & Age & Outcome\\\\\n",
       "\\hline\n",
       "\t 10    & 101   & 76    & 48    & 180   & 32.9  & 0.171 & 63    & 0    \\\\\n",
       "\t  2    & 122   & 70    & 27    &   0   & 36.8  & 0.340 & 27    & 0    \\\\\n",
       "\t  5    & 121   & 72    & 23    & 112   & 26.2  & 0.245 & 30    & 0    \\\\\n",
       "\t  1    & 126   & 60    &  0    &   0   & 30.1  & 0.349 & 47    & 1    \\\\\n",
       "\t  1    &  93   & 70    & 31    &   0   & 30.4  & 0.315 & 23    & 0    \\\\\n",
       "\\end{tabular}\n"
      ],
      "text/markdown": [
       "\n",
       "Pregnancies | Glucose | BloodPressure | SkinThickness | Insulin | BMI | DiabetesPedigreeFunction | Age | Outcome | \n",
       "|---|---|---|---|---|\n",
       "| 10    | 101   | 76    | 48    | 180   | 32.9  | 0.171 | 63    | 0     | \n",
       "|  2    | 122   | 70    | 27    |   0   | 36.8  | 0.340 | 27    | 0     | \n",
       "|  5    | 121   | 72    | 23    | 112   | 26.2  | 0.245 | 30    | 0     | \n",
       "|  1    | 126   | 60    |  0    |   0   | 30.1  | 0.349 | 47    | 1     | \n",
       "|  1    |  93   | 70    | 31    |   0   | 30.4  | 0.315 | 23    | 0     | \n",
       "\n",
       "\n"
      ],
      "text/plain": [
       "  Pregnancies Glucose BloodPressure SkinThickness Insulin BMI \n",
       "1 10          101     76            48            180     32.9\n",
       "2  2          122     70            27              0     36.8\n",
       "3  5          121     72            23            112     26.2\n",
       "4  1          126     60             0              0     30.1\n",
       "5  1           93     70            31              0     30.4\n",
       "  DiabetesPedigreeFunction Age Outcome\n",
       "1 0.171                    63  0      \n",
       "2 0.340                    27  0      \n",
       "3 0.245                    30  0      \n",
       "4 0.349                    47  1      \n",
       "5 0.315                    23  0      "
      ]
     },
     "metadata": {},
     "output_type": "display_data"
    }
   ],
   "source": [
    "tail(treinamento, 5)"
   ]
  },
  {
   "cell_type": "code",
   "execution_count": 6,
   "metadata": {},
   "outputs": [
    {
     "name": "stdout",
     "output_type": "stream",
     "text": [
      "Classes 'data.table' and 'data.frame':\t768 obs. of  9 variables:\n",
      " $ Pregnancies             : int  6 1 8 1 0 5 3 10 2 8 ...\n",
      " $ Glucose                 : int  148 85 183 89 137 116 78 115 197 125 ...\n",
      " $ BloodPressure           : int  72 66 64 66 40 74 50 0 70 96 ...\n",
      " $ SkinThickness           : int  35 29 0 23 35 0 32 0 45 0 ...\n",
      " $ Insulin                 : int  0 0 0 94 168 0 88 0 543 0 ...\n",
      " $ BMI                     : num  33.6 26.6 23.3 28.1 43.1 25.6 31 35.3 30.5 0 ...\n",
      " $ DiabetesPedigreeFunction: num  0.627 0.351 0.672 0.167 2.288 ...\n",
      " $ Age                     : int  50 31 32 21 33 30 26 29 53 54 ...\n",
      " $ Outcome                 : int  1 0 1 0 1 0 1 0 1 1 ...\n",
      " - attr(*, \".internal.selfref\")=<externalptr> \n"
     ]
    }
   ],
   "source": [
    "# Vendo informações sobre os dados de treino\n",
    "str(treinamento)"
   ]
  },
  {
   "cell_type": "code",
   "execution_count": 7,
   "metadata": {},
   "outputs": [
    {
     "data": {
      "text/html": [
       "FALSE"
      ],
      "text/latex": [
       "FALSE"
      ],
      "text/markdown": [
       "FALSE"
      ],
      "text/plain": [
       "[1] FALSE"
      ]
     },
     "metadata": {},
     "output_type": "display_data"
    }
   ],
   "source": [
    "# Verificando se existe algum valor NA\n",
    "any(is.na(treinamento))"
   ]
  },
  {
   "cell_type": "code",
   "execution_count": 8,
   "metadata": {},
   "outputs": [],
   "source": [
    "# Transformando as outras variáveis em numérico\n",
    "treinamento <- as.data.frame(apply(treinamento,2,as.numeric))"
   ]
  },
  {
   "cell_type": "markdown",
   "metadata": {},
   "source": [
    "### Etapa 3 - Visualização dos Dados"
   ]
  },
  {
   "cell_type": "code",
   "execution_count": 9,
   "metadata": {},
   "outputs": [
    {
     "data": {
      "text/html": [
       "<table>\n",
       "<thead><tr><th></th><th scope=col>Pregnancies</th><th scope=col>Glucose</th><th scope=col>BloodPressure</th><th scope=col>SkinThickness</th><th scope=col>Insulin</th><th scope=col>BMI</th><th scope=col>DiabetesPedigreeFunction</th><th scope=col>Age</th><th scope=col>Outcome</th></tr></thead>\n",
       "<tbody>\n",
       "\t<tr><th scope=row>Pregnancies</th><td> 1.00</td><td>0.13 </td><td>0.14 </td><td>-0.08</td><td>-0.07</td><td>0.02 </td><td>-0.03</td><td> 0.54</td><td>0.22 </td></tr>\n",
       "\t<tr><th scope=row>Glucose</th><td> 0.13</td><td>1.00 </td><td>0.15 </td><td> 0.06</td><td> 0.33</td><td>0.22 </td><td> 0.14</td><td> 0.26</td><td>0.47 </td></tr>\n",
       "\t<tr><th scope=row>BloodPressure</th><td> 0.14</td><td>0.15 </td><td>1.00 </td><td> 0.21</td><td> 0.09</td><td>0.28 </td><td> 0.04</td><td> 0.24</td><td>0.07 </td></tr>\n",
       "\t<tr><th scope=row>SkinThickness</th><td>-0.08</td><td>0.06 </td><td>0.21 </td><td> 1.00</td><td> 0.44</td><td>0.39 </td><td> 0.18</td><td>-0.11</td><td>0.07 </td></tr>\n",
       "\t<tr><th scope=row>Insulin</th><td>-0.07</td><td>0.33 </td><td>0.09 </td><td> 0.44</td><td> 1.00</td><td>0.20 </td><td> 0.19</td><td>-0.04</td><td>0.13 </td></tr>\n",
       "\t<tr><th scope=row>BMI</th><td> 0.02</td><td>0.22 </td><td>0.28 </td><td> 0.39</td><td> 0.20</td><td>1.00 </td><td> 0.14</td><td> 0.04</td><td>0.29 </td></tr>\n",
       "\t<tr><th scope=row>DiabetesPedigreeFunction</th><td>-0.03</td><td>0.14 </td><td>0.04 </td><td> 0.18</td><td> 0.19</td><td>0.14 </td><td> 1.00</td><td> 0.03</td><td>0.17 </td></tr>\n",
       "\t<tr><th scope=row>Age</th><td> 0.54</td><td>0.26 </td><td>0.24 </td><td>-0.11</td><td>-0.04</td><td>0.04 </td><td> 0.03</td><td> 1.00</td><td>0.24 </td></tr>\n",
       "\t<tr><th scope=row>Outcome</th><td> 0.22</td><td>0.47 </td><td>0.07 </td><td> 0.07</td><td> 0.13</td><td>0.29 </td><td> 0.17</td><td> 0.24</td><td>1.00 </td></tr>\n",
       "</tbody>\n",
       "</table>\n"
      ],
      "text/latex": [
       "\\begin{tabular}{r|lllllllll}\n",
       "  & Pregnancies & Glucose & BloodPressure & SkinThickness & Insulin & BMI & DiabetesPedigreeFunction & Age & Outcome\\\\\n",
       "\\hline\n",
       "\tPregnancies &  1.00 & 0.13  & 0.14  & -0.08 & -0.07 & 0.02  & -0.03 &  0.54 & 0.22 \\\\\n",
       "\tGlucose &  0.13 & 1.00  & 0.15  &  0.06 &  0.33 & 0.22  &  0.14 &  0.26 & 0.47 \\\\\n",
       "\tBloodPressure &  0.14 & 0.15  & 1.00  &  0.21 &  0.09 & 0.28  &  0.04 &  0.24 & 0.07 \\\\\n",
       "\tSkinThickness & -0.08 & 0.06  & 0.21  &  1.00 &  0.44 & 0.39  &  0.18 & -0.11 & 0.07 \\\\\n",
       "\tInsulin & -0.07 & 0.33  & 0.09  &  0.44 &  1.00 & 0.20  &  0.19 & -0.04 & 0.13 \\\\\n",
       "\tBMI &  0.02 & 0.22  & 0.28  &  0.39 &  0.20 & 1.00  &  0.14 &  0.04 & 0.29 \\\\\n",
       "\tDiabetesPedigreeFunction & -0.03 & 0.14  & 0.04  &  0.18 &  0.19 & 0.14  &  1.00 &  0.03 & 0.17 \\\\\n",
       "\tAge &  0.54 & 0.26  & 0.24  & -0.11 & -0.04 & 0.04  &  0.03 &  1.00 & 0.24 \\\\\n",
       "\tOutcome &  0.22 & 0.47  & 0.07  &  0.07 &  0.13 & 0.29  &  0.17 &  0.24 & 1.00 \\\\\n",
       "\\end{tabular}\n"
      ],
      "text/markdown": [
       "\n",
       "| <!--/--> | Pregnancies | Glucose | BloodPressure | SkinThickness | Insulin | BMI | DiabetesPedigreeFunction | Age | Outcome | \n",
       "|---|---|---|---|---|---|---|---|---|\n",
       "| Pregnancies |  1.00 | 0.13  | 0.14  | -0.08 | -0.07 | 0.02  | -0.03 |  0.54 | 0.22  | \n",
       "| Glucose |  0.13 | 1.00  | 0.15  |  0.06 |  0.33 | 0.22  |  0.14 |  0.26 | 0.47  | \n",
       "| BloodPressure |  0.14 | 0.15  | 1.00  |  0.21 |  0.09 | 0.28  |  0.04 |  0.24 | 0.07  | \n",
       "| SkinThickness | -0.08 | 0.06  | 0.21  |  1.00 |  0.44 | 0.39  |  0.18 | -0.11 | 0.07  | \n",
       "| Insulin | -0.07 | 0.33  | 0.09  |  0.44 |  1.00 | 0.20  |  0.19 | -0.04 | 0.13  | \n",
       "| BMI |  0.02 | 0.22  | 0.28  |  0.39 |  0.20 | 1.00  |  0.14 |  0.04 | 0.29  | \n",
       "| DiabetesPedigreeFunction | -0.03 | 0.14  | 0.04  |  0.18 |  0.19 | 0.14  |  1.00 |  0.03 | 0.17  | \n",
       "| Age |  0.54 | 0.26  | 0.24  | -0.11 | -0.04 | 0.04  |  0.03 |  1.00 | 0.24  | \n",
       "| Outcome |  0.22 | 0.47  | 0.07  |  0.07 |  0.13 | 0.29  |  0.17 |  0.24 | 1.00  | \n",
       "\n",
       "\n"
      ],
      "text/plain": [
       "                         Pregnancies Glucose BloodPressure SkinThickness\n",
       "Pregnancies               1.00       0.13    0.14          -0.08        \n",
       "Glucose                   0.13       1.00    0.15           0.06        \n",
       "BloodPressure             0.14       0.15    1.00           0.21        \n",
       "SkinThickness            -0.08       0.06    0.21           1.00        \n",
       "Insulin                  -0.07       0.33    0.09           0.44        \n",
       "BMI                       0.02       0.22    0.28           0.39        \n",
       "DiabetesPedigreeFunction -0.03       0.14    0.04           0.18        \n",
       "Age                       0.54       0.26    0.24          -0.11        \n",
       "Outcome                   0.22       0.47    0.07           0.07        \n",
       "                         Insulin BMI  DiabetesPedigreeFunction Age   Outcome\n",
       "Pregnancies              -0.07   0.02 -0.03                     0.54 0.22   \n",
       "Glucose                   0.33   0.22  0.14                     0.26 0.47   \n",
       "BloodPressure             0.09   0.28  0.04                     0.24 0.07   \n",
       "SkinThickness             0.44   0.39  0.18                    -0.11 0.07   \n",
       "Insulin                   1.00   0.20  0.19                    -0.04 0.13   \n",
       "BMI                       0.20   1.00  0.14                     0.04 0.29   \n",
       "DiabetesPedigreeFunction  0.19   0.14  1.00                     0.03 0.17   \n",
       "Age                      -0.04   0.04  0.03                     1.00 0.24   \n",
       "Outcome                   0.13   0.29  0.17                     0.24 1.00   "
      ]
     },
     "metadata": {},
     "output_type": "display_data"
    }
   ],
   "source": [
    "# Criando gráfico de correlação entre as variáveis\n",
    "\n",
    "# Visualizando a correlação em tabela\n",
    "# Coeficiente de correlação: \n",
    "# +1  = forte correlação positiva\n",
    "# 0   = não há correlação\n",
    "# -1  = forte correlação negativa\n",
    "round(cor(treinamento),2)"
   ]
  },
  {
   "cell_type": "code",
   "execution_count": 11,
   "metadata": {},
   "outputs": [
    {
     "data": {},
     "metadata": {},
     "output_type": "display_data"
    },
    {
     "data": {
      "image/png": "[encoded data removed]",
      "text/plain": [
       "plot without title"
      ]
     },
     "metadata": {},
     "output_type": "display_data"
    }
   ],
   "source": [
    "# Construindo o HeatMap\n",
    "cormat <- round(cor(treinamento),2)\n",
    "\n",
    "melted_cormat <- melt(cormat)\n",
    "\n",
    "ggplot(data = melted_cormat, aes(x = Var1, y = Var2, fill = value)) + \n",
    "    geom_tile() +\n",
    "    xlab(\"\") + \n",
    "    ylab(\"\")\n"
   ]
  },
  {
   "cell_type": "code",
   "execution_count": 12,
   "metadata": {},
   "outputs": [],
   "source": [
    "# Transformando a variável target em factor\n",
    "treinamento$Outcome <- as.factor(treinamento$Outcome)"
   ]
  },
  {
   "cell_type": "code",
   "execution_count": 13,
   "metadata": {},
   "outputs": [
    {
     "data": {
      "text/html": [
       "TRUE"
      ],
      "text/latex": [
       "TRUE"
      ],
      "text/markdown": [
       "TRUE"
      ],
      "text/plain": [
       "[1] TRUE"
      ]
     },
     "metadata": {},
     "output_type": "display_data"
    }
   ],
   "source": [
    "# Os valores zeros são dados faltantes\n",
    "any(treinamento==0)"
   ]
  },
  {
   "cell_type": "code",
   "execution_count": 14,
   "metadata": {},
   "outputs": [
    {
     "data": {
      "text/plain": [
       "\n",
       "   0    1 \n",
       "65.1 34.9 "
      ]
     },
     "metadata": {},
     "output_type": "display_data"
    }
   ],
   "source": [
    "# Temos apenas 34,67% de valores 1, ou seja, somente 34,67% tem diabetes.\n",
    "round(prop.table(table(treinamento$Outcome))*100,2)"
   ]
  },
  {
   "cell_type": "code",
   "execution_count": 15,
   "metadata": {},
   "outputs": [
    {
     "data": {
      "image/png": "[encoded data removed]",
      "text/plain": [
       "Plot with title \"\""
      ]
     },
     "metadata": {},
     "output_type": "display_data"
    }
   ],
   "source": [
    "# Boxplot dos Dados\n",
    "par(mfrow=c(2, 4))\n",
    "plot(treinamento$Outcome,treinamento$Pregnancies, main=\"\", \n",
    "     xlab=\"Outcome\", ylab = \"Pregnancies\", pch =\"*\", col=\"red\", cex=2)\n",
    "\n",
    "plot(treinamento$Outcome,treinamento$Glucose, main=\"\", \n",
    "     xlab=\"Outcome\", ylab = \"Glucose\", pch =\"*\", col=\"red\", cex=2)\n",
    "\n",
    "plot(treinamento$Outcome,treinamento$BloodPressure, main=\"\", \n",
    "     xlab=\"Outcome\", ylab = \"Blood Pressure\", pch =\"*\", col=\"red\", cex=2)\n",
    "\n",
    "plot(treinamento$Outcome,treinamento$SkinThickness, main=\"\", \n",
    "     xlab=\"Outcome\", ylab = \"Skin Thickness\", pch =\"*\", col=\"red\", cex=2)\n",
    "\n",
    "plot(treinamento$Outcome,treinamento$Insulin, main=\"\", \n",
    "     xlab=\"Outcome\", ylab = \"Insulin\", pch =\"*\", col=\"red\", cex=2)\n",
    "\n",
    "plot(treinamento$Outcome,treinamento$BMI, main=\"\", \n",
    "     xlab=\"Outcome\", ylab = \"BMI\", pch =\"*\", col=\"red\", cex=2)\n",
    "\n",
    "plot(treinamento$Outcome,treinamento$Age, main=\"\", \n",
    "     xlab=\"Outcome\", ylab = \"Age\", pch =\"*\", col=\"red\", cex=2)\n",
    "\n",
    "plot(treinamento$Outcome,treinamento$DiabetesPedigreeFunction, main=\"\", \n",
    "     xlab=\"Outcome\", ylab = \"DiabetesPedigreeFunction\", pch =\"*\", col=\"red\", cex=2)\n",
    "\n",
    "# Observa-se a presença de outliers em todas as variáveis\n",
    "par(mfrow=c(1, 1))"
   ]
  },
  {
   "cell_type": "markdown",
   "metadata": {},
   "source": [
    "### Etapa 3 - Preparação dos Dados"
   ]
  },
  {
   "cell_type": "code",
   "execution_count": 16,
   "metadata": {},
   "outputs": [],
   "source": [
    "# Tratando dados missing (valores = 0), colocando-os como NA\n",
    "for(j in c(\"Glucose\",\"BloodPressure\",\"SkinThickness\",\"Insulin\",\"BMI\")){\n",
    "  for (i in 1:nrow(treinamento)) {\n",
    "    if(treinamento[i,j]==0){\n",
    "      treinamento[i,j] = NA\n",
    "    }}}\n"
   ]
  },
  {
   "cell_type": "code",
   "execution_count": 17,
   "metadata": {},
   "outputs": [
    {
     "name": "stdout",
     "output_type": "stream",
     "text": [
      "\n",
      " iter imp variable\n",
      "  1   1  Glucose  BloodPressure  SkinThickness  Insulin  BMI\n",
      "  1   2  Glucose  BloodPressure  SkinThickness  Insulin  BMI\n",
      "  1   3  Glucose  BloodPressure  SkinThickness  Insulin  BMI\n",
      "  1   4  Glucose  BloodPressure  SkinThickness  Insulin  BMI\n",
      "  1   5  Glucose  BloodPressure  SkinThickness  Insulin  BMI\n",
      "  2   1  Glucose  BloodPressure  SkinThickness  Insulin  BMI\n",
      "  2   2  Glucose  BloodPressure  SkinThickness  Insulin  BMI\n",
      "  2   3  Glucose  BloodPressure  SkinThickness  Insulin  BMI\n",
      "  2   4  Glucose  BloodPressure  SkinThickness  Insulin  BMI\n",
      "  2   5  Glucose  BloodPressure  SkinThickness  Insulin  BMI\n",
      "  3   1  Glucose  BloodPressure  SkinThickness  Insulin  BMI\n",
      "  3   2  Glucose  BloodPressure  SkinThickness  Insulin  BMI\n",
      "  3   3  Glucose  BloodPressure  SkinThickness  Insulin  BMI\n",
      "  3   4  Glucose  BloodPressure  SkinThickness  Insulin  BMI\n",
      "  3   5  Glucose  BloodPressure  SkinThickness  Insulin  BMI\n",
      "  4   1  Glucose  BloodPressure  SkinThickness  Insulin  BMI\n",
      "  4   2  Glucose  BloodPressure  SkinThickness  Insulin  BMI\n",
      "  4   3  Glucose  BloodPressure  SkinThickness  Insulin  BMI\n",
      "  4   4  Glucose  BloodPressure  SkinThickness  Insulin  BMI\n",
      "  4   5  Glucose  BloodPressure  SkinThickness  Insulin  BMI\n",
      "  5   1  Glucose  BloodPressure  SkinThickness  Insulin  BMI\n",
      "  5   2  Glucose  BloodPressure  SkinThickness  Insulin  BMI\n",
      "  5   3  Glucose  BloodPressure  SkinThickness  Insulin  BMI\n",
      "  5   4  Glucose  BloodPressure  SkinThickness  Insulin  BMI\n",
      "  5   5  Glucose  BloodPressure  SkinThickness  Insulin  BMI\n"
     ]
    }
   ],
   "source": [
    "# Imputação dos dados faltantes pela média\n",
    "dados_imputados = mice(treinamento[,c(\"Glucose\",\"BloodPressure\",\"SkinThickness\",\n",
    "                                      \"Insulin\",\"BMI\")], \n",
    "                       seed = 123, meth = 'mean')\n",
    "dados_imputados = complete(dados_imputados)"
   ]
  },
  {
   "cell_type": "code",
   "execution_count": 18,
   "metadata": {},
   "outputs": [],
   "source": [
    "# Juntando os dados\n",
    "train2 = cbind(dados_imputados, Pregnancies = treinamento$Pregnancies,\n",
    "               DiabetesPedigreeFunction = treinamento$DiabetesPedigreeFunction, \n",
    "               Age = treinamento$Age,\n",
    "               Outcome = treinamento[,\"Outcome\"])"
   ]
  },
  {
   "cell_type": "code",
   "execution_count": 19,
   "metadata": {},
   "outputs": [
    {
     "data": {
      "text/plain": [
       "\n",
       "  0   1 \n",
       "536 536 "
      ]
     },
     "metadata": {},
     "output_type": "display_data"
    }
   ],
   "source": [
    "# Aplicando um método de balanceamento das observações\n",
    "train3 <- SMOTE(Outcome ~ ., data = train2, perc.over = 100, k = 2)\n",
    "table(train3$Outcome)"
   ]
  },
  {
   "cell_type": "code",
   "execution_count": 20,
   "metadata": {},
   "outputs": [],
   "source": [
    "# Verificando a importância das variáveis através do modelo randomForest\n",
    "set.seed(123)\n",
    "modelo_importancia = randomForest(Outcome~., data = train3, \n",
    "                                  ntree = 100, nodesize = 10, importance = T)"
   ]
  },
  {
   "cell_type": "code",
   "execution_count": 21,
   "metadata": {},
   "outputs": [
    {
     "data": {
      "image/png": "[encoded data removed]",
      "text/plain": [
       "plot without title"
      ]
     },
     "metadata": {},
     "output_type": "display_data"
    }
   ],
   "source": [
    "# Plotando os resultados\n",
    "varImpPlot(modelo_importancia)\n",
    "\n",
    "# As variáveis BloodPressure, Pregnancies e SkinThickness têm os menores MeanDecreaseAccuracy,\n",
    "# por isso, retira-se do processo de ajuste do modelo"
   ]
  },
  {
   "cell_type": "code",
   "execution_count": 22,
   "metadata": {},
   "outputs": [],
   "source": [
    "# Normalizando os dados\n",
    "train4 = as.data.frame(scale(train3[,-9], center = TRUE, scale = TRUE))\n",
    "train4 = cbind(train4, Outcome = train3$Outcome)"
   ]
  },
  {
   "cell_type": "markdown",
   "metadata": {},
   "source": [
    "### Etapa 4 - Ajuste do Modelo"
   ]
  },
  {
   "cell_type": "code",
   "execution_count": 23,
   "metadata": {},
   "outputs": [],
   "source": [
    "# Ajustando um modelo Random Forest com cross-validation\n",
    "set.seed(123)\n",
    "modelo = train(train4[,c(\"Glucose\",\"BMI\",\"Age\",\"Insulin\", \"DiabetesPedigreeFunction\")], \n",
    "               train4$Outcome,\n",
    "               method = \"rf\",\n",
    "               metric = \"Accuracy\",\n",
    "               maximize = TRUE,\n",
    "               tuneLength = 4,\n",
    "               trControl = trainControl(method = \"repeatedcv\", \n",
    "                                        repeats = 5))"
   ]
  },
  {
   "cell_type": "code",
   "execution_count": 24,
   "metadata": {},
   "outputs": [
    {
     "data": {},
     "metadata": {},
     "output_type": "display_data"
    },
    {
     "data": {
      "image/png": "[encoded data removed]",
      "text/plain": [
       "plot without title"
      ]
     },
     "metadata": {},
     "output_type": "display_data"
    }
   ],
   "source": [
    "# Verificando o melhor modelo Random Forest\n",
    "plot(modelo)"
   ]
  },
  {
   "cell_type": "code",
   "execution_count": 25,
   "metadata": {},
   "outputs": [
    {
     "data": {
      "text/plain": [
       "Cross-Validated (10 fold, repeated 5 times) Confusion Matrix \n",
       "\n",
       "(entries are percentual average cell counts across resamples)\n",
       " \n",
       "          Reference\n",
       "Prediction    0    1\n",
       "         0 44.9  5.1\n",
       "         1  5.1 44.9\n",
       "                            \n",
       " Accuracy (average) : 0.8979\n"
      ]
     },
     "metadata": {},
     "output_type": "display_data"
    }
   ],
   "source": [
    "# Construindo a Matriz de Confusao\n",
    "confusionMatrix(modelo) # Acuracia de aproximadamente 0.90"
   ]
  },
  {
   "cell_type": "code",
   "execution_count": null,
   "metadata": {},
   "outputs": [],
   "source": []
  }
 ],
 "metadata": {
  "kernelspec": {
   "display_name": "R",
   "language": "R",
   "name": "ir"
  },
  "language_info": {
   "codemirror_mode": "r",
   "file_extension": ".r",
   "mimetype": "text/x-r-source",
   "name": "R",
   "pygments_lexer": "r",
   "version": "3.5.1"
  }
 },
 "nbformat": 4,
 "nbformat_minor": 1
}
